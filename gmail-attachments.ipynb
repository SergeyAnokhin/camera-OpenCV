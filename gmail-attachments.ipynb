{
 "cells": [
  {
   "cell_type": "code",
   "execution_count": null,
   "metadata": {},
   "outputs": [],
   "source": [
    "import email\n",
    "import getpass, imaplib\n",
    "import os\n",
    "import sys\n",
    "config = SecretConfig()\n",
    "config.fromJsonFile()"
   ]
  },
  {
   "cell_type": "code",
   "execution_count": null,
   "metadata": {},
   "outputs": [],
   "source": [
    "detach_dir = '.'\n",
    "if 'attachments' not in os.listdir(detach_dir):\n",
    "    os.mkdir('attachments')\n",
    "\n",
    "imapSession = imaplib.IMAP4_SSL('imap.gmail.com')\n",
    "typ, accountDetails = imapSession.login(config.username, config.password)\n",
    "if typ != 'OK':\n",
    "    print ('Not able to sign in!')\n",
    "    raise\n",
    "print(accountDetails)"
   ]
  },
  {
   "cell_type": "code",
   "execution_count": null,
   "metadata": {},
   "outputs": [],
   "source": [
    "imapSession.select('camera/foscam')\n",
    "typ, data = imapSession.search(None, 'ALL')\n",
    "if typ != 'OK':\n",
    "        print ('Error searching Inbox.')\n",
    "        raise"
   ]
  },
  {
   "cell_type": "code",
   "execution_count": null,
   "metadata": {
    "scrolled": true
   },
   "outputs": [],
   "source": [
    "msgId = data[0].split()[0]\n",
    "typ, messageParts = imapSession.fetch(msgId, '(RFC822)')\n",
    "emailBody = messageParts[0][1].decode('utf-8')\n",
    "mail = email.message_from_string(emailBody)\n",
    "for part in mail.walk():\n",
    "    print('=======================')\n",
    "    if(part.get_content_maintype() != 'image'):\n",
    "        continue\n",
    "    fileName = part.get_filename()\n",
    "    if bool(fileName):\n",
    "        filePath = os.path.join(detach_dir, 'attachments', fileName)\n",
    "        if not os.path.isfile(filePath) :\n",
    "            print (filePath)\n",
    "            fp = open(filePath, 'wb')\n",
    "            fp.write(part.get_payload(decode=True))\n",
    "            fp.close()"
   ]
  },
  {
   "cell_type": "code",
   "execution_count": null,
   "metadata": {},
   "outputs": [],
   "source": [
    "def LoadLastMail():\n",
    "\n",
    "    # Iterating over all emails\n",
    "    for msgId in data[0].split(): \n",
    "        print('MsgId: ', msgId)\n",
    "        typ, messageParts = imapSession.fetch(msgId, '(RFC822)')\n",
    "        if typ != 'OK':\n",
    "            print ('Error fetching mail.')\n",
    "            raise\n",
    "\n",
    "        emailBody = messageParts[0][1].decode('utf-8')\n",
    "        mail = email.message_from_string(emailBody)\n",
    "\n",
    "        for part in mail.walk():\n",
    "            if part.get_content_maintype() == 'multipart':\n",
    "                # print part.as_string()\n",
    "                continue\n",
    "            if part.get('Content-Disposition') is None:\n",
    "                    # print part.as_string()\n",
    "                continue\n",
    "            fileName = part.get_filename()\n",
    "\n",
    "            if bool(fileName):\n",
    "                filePath = os.path.join(detach_dir, 'attachments', fileName)\n",
    "                if not os.path.isfile(filePath) :\n",
    "                    print (fileName)\n",
    "                    #fp = open(filePath, 'wb')\n",
    "                    #fp.write(part.get_payload(decode=True))\n",
    "                    #fp.close()"
   ]
  },
  {
   "cell_type": "code",
   "execution_count": null,
   "metadata": {
    "scrolled": true
   },
   "outputs": [],
   "source": [
    "imapSession.close()\n",
    "imapSession.logout()"
   ]
  },
  {
   "cell_type": "code",
   "execution_count": null,
   "metadata": {},
   "outputs": [],
   "source": [
    "import json\n",
    "\n",
    "\n",
    "class SecretConfig:\n",
    "    usermane: str\n",
    "    password: str\n",
    "    filename = 'secret_config.json'\n",
    "        \n",
    "    def fromJsonFile(self):\n",
    "        with open(self.filename, \"r\") as read_file:\n",
    "            self.__dict__ = json.load(read_file)\n",
    "\n",
    "    def fromJson(self, json_dump):\n",
    "        self.__dict__ = json.loads(json_dump)\n",
    "\n",
    "    def toJson(self):\n",
    "        return json.dumps(self.__dict__, indent=4)\n",
    "\n",
    "    def __repr__(self):\n",
    "        return 'CONFIG: = {}'.format(self.filename)"
   ]
  },
  {
   "cell_type": "code",
   "execution_count": null,
   "metadata": {},
   "outputs": [],
   "source": []
  }
 ],
 "metadata": {
  "kernelspec": {
   "display_name": "Python 3",
   "language": "python",
   "name": "python3"
  }
 },
 "nbformat": 4,
 "nbformat_minor": 2
}
