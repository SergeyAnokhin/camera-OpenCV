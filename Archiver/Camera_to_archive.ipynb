{
 "cells": [
  {
   "cell_type": "code",
   "execution_count": 10,
   "metadata": {
    "scrolled": true
   },
   "outputs": [],
   "source": [
    "import os\n",
    "import json\n",
    "import shutil\n",
    "import re\n",
    "import sys\n",
    "import datetime\n",
    "from pprint import pprint\n",
    "import json\n",
    "%run CameraArchiveHelper\n",
    "%run CameraArchiveConfig\n",
    "%run FileArchiveInfo\n",
    "%run FileArchive"
   ]
  },
  {
   "cell_type": "code",
   "execution_count": 8,
   "metadata": {},
   "outputs": [
    {
     "name": "stdout",
     "output_type": "stream",
     "text": [
      "Load Config: camera-konx-hd.json => KonxHD\n"
     ]
    },
    {
     "data": {
      "text/plain": [
       "[CONFIG: KonxHD: = C:\\inetpub\\ftproot\\Camera\\Konx\\video\\KonxHD]"
      ]
     },
     "execution_count": 8,
     "metadata": {},
     "output_type": "execute_result"
    }
   ],
   "source": [
    "helper = CameraArchiveHelper()\n",
    "# ['FoscamHut', 'FoscamPTZ', 'Foscam', 'FoscamPlay', 'DLinkCharles', 'DLinkFranck', 'KonxHD']\n",
    "configs = helper.load_configs('..\\configs', ['KonxHD'])    \n",
    "configs"
   ]
  },
  {
   "cell_type": "code",
   "execution_count": 9,
   "metadata": {},
   "outputs": [
    {
     "name": "stdout",
     "output_type": "stream",
     "text": [
      "#################################################\n",
      "CONFIG: KonxHD: = C:\\inetpub\\ftproot\\Camera\\Konx\\video\\KonxHD\n",
      "0 files found\n",
      "0 files moved. Total 0 bytes\n",
      "########################################################\n"
     ]
    }
   ],
   "source": [
    "for config in configs:\n",
    "    print('#################################################')\n",
    "    print(config)\n",
    "    files = helper.get_files(config)\n",
    "    helper.move_files(files)"
   ]
  },
  {
   "cell_type": "code",
   "execution_count": 19,
   "metadata": {
    "scrolled": true
   },
   "outputs": [
    {
     "data": {
      "text/plain": [
       "['2019', '02', '03', '09']"
      ]
     },
     "execution_count": 19,
     "metadata": {},
     "output_type": "execute_result"
    }
   ],
   "source": [
    "# lucen query : path:*MDAlarm_20190201\\-124005.jpg '2019-02-03_09-11-26_598.jpg'\n",
    "groups = re.search(\"(20\\\\d\\\\d)[_-]?(\\\\d\\\\d)[_-]?(\\\\d\\\\d)[_-]?(\\\\d\\\\d)[_-]?(\\\\d\\\\d)[_-]?(\\\\d\\\\d)\", '2019-02-03_09-11-26_598.jpg') #'MDAlarm_20190201-124005.jpg')\n",
    "[ groups.group(1), groups.group(2), groups.group(3), groups.group(4) ]"
   ]
  },
  {
   "cell_type": "code",
   "execution_count": 8,
   "metadata": {},
   "outputs": [
    {
     "data": {
      "text/plain": [
       "'false'"
      ]
     },
     "execution_count": 8,
     "metadata": {},
     "output_type": "execute_result"
    }
   ],
   "source": [
    "import re\n",
    "'true' if re.search('aaa', 'bbb') else 'false'"
   ]
  },
  {
   "cell_type": "code",
   "execution_count": null,
   "metadata": {},
   "outputs": [],
   "source": []
  }
 ],
 "metadata": {
  "kernelspec": {
   "display_name": "Python 3",
   "language": "python",
   "name": "python3"
  },
  "language_info": {
   "codemirror_mode": {
    "name": "ipython",
    "version": 3
   },
   "file_extension": ".py",
   "mimetype": "text/x-python",
   "name": "python",
   "nbconvert_exporter": "python",
   "pygments_lexer": "ipython3",
   "version": "3.6.8"
  }
 },
 "nbformat": 4,
 "nbformat_minor": 2
}
