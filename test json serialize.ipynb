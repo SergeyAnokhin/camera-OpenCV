{
 "cells": [
  {
   "cell_type": "code",
   "execution_count": 1,
   "metadata": {},
   "outputs": [],
   "source": [
    "import json\n",
    "from datetime import datetime\n",
    "import decimal"
   ]
  },
  {
   "cell_type": "code",
   "execution_count": 28,
   "metadata": {},
   "outputs": [],
   "source": [
    "class AnalyseResult():\n",
    "    images = []\n",
    "    objects: str\n",
    "    day_time: str # night, day, mi_day\n",
    "    is_false_alert: bool\n",
    "    directions = []\n",
    "    \n",
    "    def reprJSON(self):\n",
    "        d = self.__dict__\n",
    "        d[\"images\"] = self.images\n",
    "        return d\n",
    "    \n",
    "class ImageAnalyseResult:\n",
    "    contours = []\n",
    "    objects = []\n",
    "\n",
    "    def reprJSON(self):\n",
    "        d = self.__dict__\n",
    "        d[\"contours\"] = self.contours\n",
    "        return d\n",
    "    \n",
    "class ContourAnalyseResult:\n",
    "    area = 0\n",
    "    profile_proportion =  0.0\n",
    "    center_coordinate = []\n",
    "    direction = 0.0\n",
    "    \n",
    "    def reprJSON(self):\n",
    "        d = self.__dict__\n",
    "        return d\n"
   ]
  },
  {
   "cell_type": "code",
   "execution_count": 29,
   "metadata": {},
   "outputs": [],
   "source": [
    "class ComplexEncoder(json.JSONEncoder):\n",
    "    def default(self, obj):\n",
    "        print(\"type: \", type(obj))\n",
    "        if hasattr(obj,'reprJSON'):\n",
    "            return obj.reprJSON()\n",
    "        else:\n",
    "            return json.JSONEncoder.default(self, obj)"
   ]
  },
  {
   "cell_type": "code",
   "execution_count": 30,
   "metadata": {},
   "outputs": [],
   "source": [
    "cts = ContourAnalyseResult()\n",
    "cts.area = 100\n",
    "cts.profile_proportion = 1.5\n",
    "cts.direction = 75\n",
    "cts.center_coordinate = [50, 50]\n",
    "\n",
    "img = ImageAnalyseResult()\n",
    "img.contours.append(cts)\n",
    "\n",
    "res = AnalyseResult()\n",
    "res.objects = \"person car\"\n",
    "res.is_false_alert = False\n",
    "res.images.append(img)\n",
    "\n",
    "# res.datetime = datetime(2019, 2, 26, 12, 6, 0) Object of type 'datetime' is not JSON serializable"
   ]
  },
  {
   "cell_type": "code",
   "execution_count": 31,
   "metadata": {},
   "outputs": [
    {
     "name": "stdout",
     "output_type": "stream",
     "text": [
      "type:  <class '__main__.ImageAnalyseResult'>\n",
      "type:  <class '__main__.ContourAnalyseResult'>\n"
     ]
    },
    {
     "data": {
      "text/plain": [
       "'{\\n    \"objects\": \"person car\",\\n    \"is_false_alert\": false,\\n    \"images\": [\\n        {\\n            \"contours\": [\\n                {\\n                    \"area\": 100,\\n                    \"profile_proportion\": 1.5,\\n                    \"direction\": 75,\\n                    \"center_coordinate\": [\\n                        50,\\n                        50\\n                    ]\\n                }\\n            ]\\n        }\\n    ]\\n}'"
      ]
     },
     "execution_count": 31,
     "metadata": {},
     "output_type": "execute_result"
    }
   ],
   "source": [
    "json.dumps(res.reprJSON(), cls=ComplexEncoder, indent=4)"
   ]
  },
  {
   "cell_type": "code",
   "execution_count": null,
   "metadata": {},
   "outputs": [],
   "source": []
  }
 ],
 "metadata": {
  "kernelspec": {
   "display_name": "Python 3",
   "language": "python",
   "name": "python3"
  },
  "language_info": {
   "codemirror_mode": {
    "name": "ipython",
    "version": 3
   },
   "file_extension": ".py",
   "mimetype": "text/x-python",
   "name": "python",
   "nbconvert_exporter": "python",
   "pygments_lexer": "ipython3",
   "version": "3.6.8"
  }
 },
 "nbformat": 4,
 "nbformat_minor": 2
}
